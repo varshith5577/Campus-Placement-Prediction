{
 "cells": [
  {
   "cell_type": "markdown",
   "metadata": {},
   "source": [
    "## ENGINEERING PLACEMENT DATA ANALYSIS\n",
    "## BATCH NO:AD-33\n",
    "### 1.GEETHIKA SAI MADHAVI-2111CS010147\n",
    "### 2.A.CHANDU                        -2111CS010105\n",
    "### 3.K.DINESH                          -2111CS010129\n",
    "### 4.N.GANESH                        -2111CS010141"
   ]
  },
  {
   "cell_type": "code",
   "execution_count": 1,
   "metadata": {},
   "outputs": [],
   "source": [
    "#import libraries\n",
    "import os\n",
    "import numpy as np # linear algebra\n",
    "import pandas as pd # data processing, CSV file I/O (e.g. pd.read_csv)\n",
    "import matplotlib.pyplot as plt # Data Visualization\n",
    "import seaborn as sns # Data Visualization"
   ]
  },
  {
   "cell_type": "code",
   "execution_count": 2,
   "metadata": {},
   "outputs": [
    {
     "data": {
      "text/plain": [
       "'C:\\\\Users\\\\Prudhvi\\\\ad 33 sem5\\\\placement_prediction.csv'"
      ]
     },
     "execution_count": 2,
     "metadata": {},
     "output_type": "execute_result"
    }
   ],
   "source": [
    "path = os.getcwd()\n",
    "file = path + \"\\placement_prediction.csv\"\n",
    "file"
   ]
  },
  {
   "cell_type": "markdown",
   "metadata": {},
   "source": [
    "## Load dataset"
   ]
  },
  {
   "cell_type": "code",
   "execution_count": 3,
   "metadata": {},
   "outputs": [
    {
     "data": {
      "text/html": [
       "<div>\n",
       "<style scoped>\n",
       "    .dataframe tbody tr th:only-of-type {\n",
       "        vertical-align: middle;\n",
       "    }\n",
       "\n",
       "    .dataframe tbody tr th {\n",
       "        vertical-align: top;\n",
       "    }\n",
       "\n",
       "    .dataframe thead th {\n",
       "        text-align: right;\n",
       "    }\n",
       "</style>\n",
       "<table border=\"1\" class=\"dataframe\">\n",
       "  <thead>\n",
       "    <tr style=\"text-align: right;\">\n",
       "      <th></th>\n",
       "      <th>StudentID</th>\n",
       "      <th>CGPA</th>\n",
       "      <th>Internships</th>\n",
       "      <th>Projects</th>\n",
       "      <th>Workshops/Certifications</th>\n",
       "      <th>AptitudeTestScore</th>\n",
       "      <th>SoftSkillsRating</th>\n",
       "      <th>ExtracurricularActivities</th>\n",
       "      <th>PlacementTraining</th>\n",
       "      <th>SSC_Marks</th>\n",
       "      <th>HSC_Marks</th>\n",
       "      <th>PlacementStatus</th>\n",
       "    </tr>\n",
       "  </thead>\n",
       "  <tbody>\n",
       "    <tr>\n",
       "      <th>0</th>\n",
       "      <td>1</td>\n",
       "      <td>7.5</td>\n",
       "      <td>1</td>\n",
       "      <td>1</td>\n",
       "      <td>1</td>\n",
       "      <td>65</td>\n",
       "      <td>4.4</td>\n",
       "      <td>No</td>\n",
       "      <td>No</td>\n",
       "      <td>61</td>\n",
       "      <td>79</td>\n",
       "      <td>NotPlaced</td>\n",
       "    </tr>\n",
       "    <tr>\n",
       "      <th>1</th>\n",
       "      <td>2</td>\n",
       "      <td>8.9</td>\n",
       "      <td>0</td>\n",
       "      <td>3</td>\n",
       "      <td>2</td>\n",
       "      <td>90</td>\n",
       "      <td>4.0</td>\n",
       "      <td>Yes</td>\n",
       "      <td>Yes</td>\n",
       "      <td>78</td>\n",
       "      <td>82</td>\n",
       "      <td>Placed</td>\n",
       "    </tr>\n",
       "    <tr>\n",
       "      <th>2</th>\n",
       "      <td>3</td>\n",
       "      <td>7.3</td>\n",
       "      <td>1</td>\n",
       "      <td>2</td>\n",
       "      <td>2</td>\n",
       "      <td>82</td>\n",
       "      <td>4.8</td>\n",
       "      <td>Yes</td>\n",
       "      <td>No</td>\n",
       "      <td>79</td>\n",
       "      <td>80</td>\n",
       "      <td>NotPlaced</td>\n",
       "    </tr>\n",
       "    <tr>\n",
       "      <th>3</th>\n",
       "      <td>4</td>\n",
       "      <td>7.5</td>\n",
       "      <td>1</td>\n",
       "      <td>1</td>\n",
       "      <td>2</td>\n",
       "      <td>85</td>\n",
       "      <td>4.4</td>\n",
       "      <td>Yes</td>\n",
       "      <td>Yes</td>\n",
       "      <td>81</td>\n",
       "      <td>80</td>\n",
       "      <td>Placed</td>\n",
       "    </tr>\n",
       "    <tr>\n",
       "      <th>4</th>\n",
       "      <td>5</td>\n",
       "      <td>8.3</td>\n",
       "      <td>1</td>\n",
       "      <td>2</td>\n",
       "      <td>2</td>\n",
       "      <td>86</td>\n",
       "      <td>4.5</td>\n",
       "      <td>Yes</td>\n",
       "      <td>Yes</td>\n",
       "      <td>74</td>\n",
       "      <td>88</td>\n",
       "      <td>Placed</td>\n",
       "    </tr>\n",
       "    <tr>\n",
       "      <th>...</th>\n",
       "      <td>...</td>\n",
       "      <td>...</td>\n",
       "      <td>...</td>\n",
       "      <td>...</td>\n",
       "      <td>...</td>\n",
       "      <td>...</td>\n",
       "      <td>...</td>\n",
       "      <td>...</td>\n",
       "      <td>...</td>\n",
       "      <td>...</td>\n",
       "      <td>...</td>\n",
       "      <td>...</td>\n",
       "    </tr>\n",
       "    <tr>\n",
       "      <th>9995</th>\n",
       "      <td>9996</td>\n",
       "      <td>7.5</td>\n",
       "      <td>1</td>\n",
       "      <td>1</td>\n",
       "      <td>2</td>\n",
       "      <td>72</td>\n",
       "      <td>3.9</td>\n",
       "      <td>Yes</td>\n",
       "      <td>No</td>\n",
       "      <td>85</td>\n",
       "      <td>66</td>\n",
       "      <td>NotPlaced</td>\n",
       "    </tr>\n",
       "    <tr>\n",
       "      <th>9996</th>\n",
       "      <td>9997</td>\n",
       "      <td>7.4</td>\n",
       "      <td>0</td>\n",
       "      <td>1</td>\n",
       "      <td>0</td>\n",
       "      <td>90</td>\n",
       "      <td>4.8</td>\n",
       "      <td>No</td>\n",
       "      <td>No</td>\n",
       "      <td>84</td>\n",
       "      <td>67</td>\n",
       "      <td>Placed</td>\n",
       "    </tr>\n",
       "    <tr>\n",
       "      <th>9997</th>\n",
       "      <td>9998</td>\n",
       "      <td>8.4</td>\n",
       "      <td>1</td>\n",
       "      <td>3</td>\n",
       "      <td>0</td>\n",
       "      <td>70</td>\n",
       "      <td>4.8</td>\n",
       "      <td>Yes</td>\n",
       "      <td>Yes</td>\n",
       "      <td>79</td>\n",
       "      <td>81</td>\n",
       "      <td>Placed</td>\n",
       "    </tr>\n",
       "    <tr>\n",
       "      <th>9998</th>\n",
       "      <td>9999</td>\n",
       "      <td>8.9</td>\n",
       "      <td>0</td>\n",
       "      <td>3</td>\n",
       "      <td>2</td>\n",
       "      <td>87</td>\n",
       "      <td>4.8</td>\n",
       "      <td>Yes</td>\n",
       "      <td>Yes</td>\n",
       "      <td>71</td>\n",
       "      <td>85</td>\n",
       "      <td>Placed</td>\n",
       "    </tr>\n",
       "    <tr>\n",
       "      <th>9999</th>\n",
       "      <td>10000</td>\n",
       "      <td>8.4</td>\n",
       "      <td>0</td>\n",
       "      <td>1</td>\n",
       "      <td>1</td>\n",
       "      <td>66</td>\n",
       "      <td>3.8</td>\n",
       "      <td>No</td>\n",
       "      <td>No</td>\n",
       "      <td>62</td>\n",
       "      <td>66</td>\n",
       "      <td>NotPlaced</td>\n",
       "    </tr>\n",
       "  </tbody>\n",
       "</table>\n",
       "<p>10000 rows × 12 columns</p>\n",
       "</div>"
      ],
      "text/plain": [
       "      StudentID  CGPA  Internships  Projects  Workshops/Certifications  \\\n",
       "0             1   7.5            1         1                         1   \n",
       "1             2   8.9            0         3                         2   \n",
       "2             3   7.3            1         2                         2   \n",
       "3             4   7.5            1         1                         2   \n",
       "4             5   8.3            1         2                         2   \n",
       "...         ...   ...          ...       ...                       ...   \n",
       "9995       9996   7.5            1         1                         2   \n",
       "9996       9997   7.4            0         1                         0   \n",
       "9997       9998   8.4            1         3                         0   \n",
       "9998       9999   8.9            0         3                         2   \n",
       "9999      10000   8.4            0         1                         1   \n",
       "\n",
       "      AptitudeTestScore  SoftSkillsRating ExtracurricularActivities  \\\n",
       "0                    65               4.4                        No   \n",
       "1                    90               4.0                       Yes   \n",
       "2                    82               4.8                       Yes   \n",
       "3                    85               4.4                       Yes   \n",
       "4                    86               4.5                       Yes   \n",
       "...                 ...               ...                       ...   \n",
       "9995                 72               3.9                       Yes   \n",
       "9996                 90               4.8                        No   \n",
       "9997                 70               4.8                       Yes   \n",
       "9998                 87               4.8                       Yes   \n",
       "9999                 66               3.8                        No   \n",
       "\n",
       "     PlacementTraining  SSC_Marks  HSC_Marks PlacementStatus  \n",
       "0                   No         61         79       NotPlaced  \n",
       "1                  Yes         78         82          Placed  \n",
       "2                   No         79         80       NotPlaced  \n",
       "3                  Yes         81         80          Placed  \n",
       "4                  Yes         74         88          Placed  \n",
       "...                ...        ...        ...             ...  \n",
       "9995                No         85         66       NotPlaced  \n",
       "9996                No         84         67          Placed  \n",
       "9997               Yes         79         81          Placed  \n",
       "9998               Yes         71         85          Placed  \n",
       "9999                No         62         66       NotPlaced  \n",
       "\n",
       "[10000 rows x 12 columns]"
      ]
     },
     "execution_count": 3,
     "metadata": {},
     "output_type": "execute_result"
    }
   ],
   "source": [
    "# Load Dataset\n",
    "df = pd.read_csv(file)\n",
    "df"
   ]
  },
  {
   "cell_type": "markdown",
   "metadata": {},
   "source": [
    "## Display top and last records"
   ]
  },
  {
   "cell_type": "code",
   "execution_count": 4,
   "metadata": {},
   "outputs": [
    {
     "data": {
      "text/html": [
       "<div>\n",
       "<style scoped>\n",
       "    .dataframe tbody tr th:only-of-type {\n",
       "        vertical-align: middle;\n",
       "    }\n",
       "\n",
       "    .dataframe tbody tr th {\n",
       "        vertical-align: top;\n",
       "    }\n",
       "\n",
       "    .dataframe thead th {\n",
       "        text-align: right;\n",
       "    }\n",
       "</style>\n",
       "<table border=\"1\" class=\"dataframe\">\n",
       "  <thead>\n",
       "    <tr style=\"text-align: right;\">\n",
       "      <th></th>\n",
       "      <th>StudentID</th>\n",
       "      <th>CGPA</th>\n",
       "      <th>Internships</th>\n",
       "      <th>Projects</th>\n",
       "      <th>Workshops/Certifications</th>\n",
       "      <th>AptitudeTestScore</th>\n",
       "      <th>SoftSkillsRating</th>\n",
       "      <th>ExtracurricularActivities</th>\n",
       "      <th>PlacementTraining</th>\n",
       "      <th>SSC_Marks</th>\n",
       "      <th>HSC_Marks</th>\n",
       "      <th>PlacementStatus</th>\n",
       "    </tr>\n",
       "  </thead>\n",
       "  <tbody>\n",
       "    <tr>\n",
       "      <th>0</th>\n",
       "      <td>1</td>\n",
       "      <td>7.5</td>\n",
       "      <td>1</td>\n",
       "      <td>1</td>\n",
       "      <td>1</td>\n",
       "      <td>65</td>\n",
       "      <td>4.4</td>\n",
       "      <td>No</td>\n",
       "      <td>No</td>\n",
       "      <td>61</td>\n",
       "      <td>79</td>\n",
       "      <td>NotPlaced</td>\n",
       "    </tr>\n",
       "    <tr>\n",
       "      <th>1</th>\n",
       "      <td>2</td>\n",
       "      <td>8.9</td>\n",
       "      <td>0</td>\n",
       "      <td>3</td>\n",
       "      <td>2</td>\n",
       "      <td>90</td>\n",
       "      <td>4.0</td>\n",
       "      <td>Yes</td>\n",
       "      <td>Yes</td>\n",
       "      <td>78</td>\n",
       "      <td>82</td>\n",
       "      <td>Placed</td>\n",
       "    </tr>\n",
       "    <tr>\n",
       "      <th>2</th>\n",
       "      <td>3</td>\n",
       "      <td>7.3</td>\n",
       "      <td>1</td>\n",
       "      <td>2</td>\n",
       "      <td>2</td>\n",
       "      <td>82</td>\n",
       "      <td>4.8</td>\n",
       "      <td>Yes</td>\n",
       "      <td>No</td>\n",
       "      <td>79</td>\n",
       "      <td>80</td>\n",
       "      <td>NotPlaced</td>\n",
       "    </tr>\n",
       "    <tr>\n",
       "      <th>3</th>\n",
       "      <td>4</td>\n",
       "      <td>7.5</td>\n",
       "      <td>1</td>\n",
       "      <td>1</td>\n",
       "      <td>2</td>\n",
       "      <td>85</td>\n",
       "      <td>4.4</td>\n",
       "      <td>Yes</td>\n",
       "      <td>Yes</td>\n",
       "      <td>81</td>\n",
       "      <td>80</td>\n",
       "      <td>Placed</td>\n",
       "    </tr>\n",
       "    <tr>\n",
       "      <th>4</th>\n",
       "      <td>5</td>\n",
       "      <td>8.3</td>\n",
       "      <td>1</td>\n",
       "      <td>2</td>\n",
       "      <td>2</td>\n",
       "      <td>86</td>\n",
       "      <td>4.5</td>\n",
       "      <td>Yes</td>\n",
       "      <td>Yes</td>\n",
       "      <td>74</td>\n",
       "      <td>88</td>\n",
       "      <td>Placed</td>\n",
       "    </tr>\n",
       "  </tbody>\n",
       "</table>\n",
       "</div>"
      ],
      "text/plain": [
       "   StudentID  CGPA  Internships  Projects  Workshops/Certifications  \\\n",
       "0          1   7.5            1         1                         1   \n",
       "1          2   8.9            0         3                         2   \n",
       "2          3   7.3            1         2                         2   \n",
       "3          4   7.5            1         1                         2   \n",
       "4          5   8.3            1         2                         2   \n",
       "\n",
       "   AptitudeTestScore  SoftSkillsRating ExtracurricularActivities  \\\n",
       "0                 65               4.4                        No   \n",
       "1                 90               4.0                       Yes   \n",
       "2                 82               4.8                       Yes   \n",
       "3                 85               4.4                       Yes   \n",
       "4                 86               4.5                       Yes   \n",
       "\n",
       "  PlacementTraining  SSC_Marks  HSC_Marks PlacementStatus  \n",
       "0                No         61         79       NotPlaced  \n",
       "1               Yes         78         82          Placed  \n",
       "2                No         79         80       NotPlaced  \n",
       "3               Yes         81         80          Placed  \n",
       "4               Yes         74         88          Placed  "
      ]
     },
     "execution_count": 4,
     "metadata": {},
     "output_type": "execute_result"
    }
   ],
   "source": [
    "df.head()"
   ]
  },
  {
   "cell_type": "code",
   "execution_count": 5,
   "metadata": {},
   "outputs": [
    {
     "data": {
      "text/html": [
       "<div>\n",
       "<style scoped>\n",
       "    .dataframe tbody tr th:only-of-type {\n",
       "        vertical-align: middle;\n",
       "    }\n",
       "\n",
       "    .dataframe tbody tr th {\n",
       "        vertical-align: top;\n",
       "    }\n",
       "\n",
       "    .dataframe thead th {\n",
       "        text-align: right;\n",
       "    }\n",
       "</style>\n",
       "<table border=\"1\" class=\"dataframe\">\n",
       "  <thead>\n",
       "    <tr style=\"text-align: right;\">\n",
       "      <th></th>\n",
       "      <th>StudentID</th>\n",
       "      <th>CGPA</th>\n",
       "      <th>Internships</th>\n",
       "      <th>Projects</th>\n",
       "      <th>Workshops/Certifications</th>\n",
       "      <th>AptitudeTestScore</th>\n",
       "      <th>SoftSkillsRating</th>\n",
       "      <th>ExtracurricularActivities</th>\n",
       "      <th>PlacementTraining</th>\n",
       "      <th>SSC_Marks</th>\n",
       "      <th>HSC_Marks</th>\n",
       "      <th>PlacementStatus</th>\n",
       "    </tr>\n",
       "  </thead>\n",
       "  <tbody>\n",
       "    <tr>\n",
       "      <th>9995</th>\n",
       "      <td>9996</td>\n",
       "      <td>7.5</td>\n",
       "      <td>1</td>\n",
       "      <td>1</td>\n",
       "      <td>2</td>\n",
       "      <td>72</td>\n",
       "      <td>3.9</td>\n",
       "      <td>Yes</td>\n",
       "      <td>No</td>\n",
       "      <td>85</td>\n",
       "      <td>66</td>\n",
       "      <td>NotPlaced</td>\n",
       "    </tr>\n",
       "    <tr>\n",
       "      <th>9996</th>\n",
       "      <td>9997</td>\n",
       "      <td>7.4</td>\n",
       "      <td>0</td>\n",
       "      <td>1</td>\n",
       "      <td>0</td>\n",
       "      <td>90</td>\n",
       "      <td>4.8</td>\n",
       "      <td>No</td>\n",
       "      <td>No</td>\n",
       "      <td>84</td>\n",
       "      <td>67</td>\n",
       "      <td>Placed</td>\n",
       "    </tr>\n",
       "    <tr>\n",
       "      <th>9997</th>\n",
       "      <td>9998</td>\n",
       "      <td>8.4</td>\n",
       "      <td>1</td>\n",
       "      <td>3</td>\n",
       "      <td>0</td>\n",
       "      <td>70</td>\n",
       "      <td>4.8</td>\n",
       "      <td>Yes</td>\n",
       "      <td>Yes</td>\n",
       "      <td>79</td>\n",
       "      <td>81</td>\n",
       "      <td>Placed</td>\n",
       "    </tr>\n",
       "    <tr>\n",
       "      <th>9998</th>\n",
       "      <td>9999</td>\n",
       "      <td>8.9</td>\n",
       "      <td>0</td>\n",
       "      <td>3</td>\n",
       "      <td>2</td>\n",
       "      <td>87</td>\n",
       "      <td>4.8</td>\n",
       "      <td>Yes</td>\n",
       "      <td>Yes</td>\n",
       "      <td>71</td>\n",
       "      <td>85</td>\n",
       "      <td>Placed</td>\n",
       "    </tr>\n",
       "    <tr>\n",
       "      <th>9999</th>\n",
       "      <td>10000</td>\n",
       "      <td>8.4</td>\n",
       "      <td>0</td>\n",
       "      <td>1</td>\n",
       "      <td>1</td>\n",
       "      <td>66</td>\n",
       "      <td>3.8</td>\n",
       "      <td>No</td>\n",
       "      <td>No</td>\n",
       "      <td>62</td>\n",
       "      <td>66</td>\n",
       "      <td>NotPlaced</td>\n",
       "    </tr>\n",
       "  </tbody>\n",
       "</table>\n",
       "</div>"
      ],
      "text/plain": [
       "      StudentID  CGPA  Internships  Projects  Workshops/Certifications  \\\n",
       "9995       9996   7.5            1         1                         2   \n",
       "9996       9997   7.4            0         1                         0   \n",
       "9997       9998   8.4            1         3                         0   \n",
       "9998       9999   8.9            0         3                         2   \n",
       "9999      10000   8.4            0         1                         1   \n",
       "\n",
       "      AptitudeTestScore  SoftSkillsRating ExtracurricularActivities  \\\n",
       "9995                 72               3.9                       Yes   \n",
       "9996                 90               4.8                        No   \n",
       "9997                 70               4.8                       Yes   \n",
       "9998                 87               4.8                       Yes   \n",
       "9999                 66               3.8                        No   \n",
       "\n",
       "     PlacementTraining  SSC_Marks  HSC_Marks PlacementStatus  \n",
       "9995                No         85         66       NotPlaced  \n",
       "9996                No         84         67          Placed  \n",
       "9997               Yes         79         81          Placed  \n",
       "9998               Yes         71         85          Placed  \n",
       "9999                No         62         66       NotPlaced  "
      ]
     },
     "execution_count": 5,
     "metadata": {},
     "output_type": "execute_result"
    }
   ],
   "source": [
    "df.tail()"
   ]
  },
  {
   "cell_type": "code",
   "execution_count": 6,
   "metadata": {},
   "outputs": [
    {
     "data": {
      "text/plain": [
       "(10000, 12)"
      ]
     },
     "execution_count": 6,
     "metadata": {},
     "output_type": "execute_result"
    }
   ],
   "source": [
    "# Get Size of Dataset (Rows and Columns)\n",
    "df.shape"
   ]
  },
  {
   "cell_type": "code",
   "execution_count": 7,
   "metadata": {},
   "outputs": [
    {
     "name": "stdout",
     "output_type": "stream",
     "text": [
      "<class 'pandas.core.frame.DataFrame'>\n",
      "RangeIndex: 10000 entries, 0 to 9999\n",
      "Data columns (total 12 columns):\n",
      " #   Column                     Non-Null Count  Dtype  \n",
      "---  ------                     --------------  -----  \n",
      " 0   StudentID                  10000 non-null  int64  \n",
      " 1   CGPA                       10000 non-null  float64\n",
      " 2   Internships                10000 non-null  int64  \n",
      " 3   Projects                   10000 non-null  int64  \n",
      " 4   Workshops/Certifications   10000 non-null  int64  \n",
      " 5   AptitudeTestScore          10000 non-null  int64  \n",
      " 6   SoftSkillsRating           10000 non-null  float64\n",
      " 7   ExtracurricularActivities  10000 non-null  object \n",
      " 8   PlacementTraining          10000 non-null  object \n",
      " 9   SSC_Marks                  10000 non-null  int64  \n",
      " 10  HSC_Marks                  10000 non-null  int64  \n",
      " 11  PlacementStatus            10000 non-null  object \n",
      "dtypes: float64(2), int64(7), object(3)\n",
      "memory usage: 937.6+ KB\n"
     ]
    }
   ],
   "source": [
    "# Get Information about dataset\n",
    "df.info()"
   ]
  },
  {
   "cell_type": "markdown",
   "metadata": {},
   "source": [
    "## Summary statistics"
   ]
  },
  {
   "cell_type": "code",
   "execution_count": 8,
   "metadata": {},
   "outputs": [
    {
     "data": {
      "text/html": [
       "<div>\n",
       "<style scoped>\n",
       "    .dataframe tbody tr th:only-of-type {\n",
       "        vertical-align: middle;\n",
       "    }\n",
       "\n",
       "    .dataframe tbody tr th {\n",
       "        vertical-align: top;\n",
       "    }\n",
       "\n",
       "    .dataframe thead th {\n",
       "        text-align: right;\n",
       "    }\n",
       "</style>\n",
       "<table border=\"1\" class=\"dataframe\">\n",
       "  <thead>\n",
       "    <tr style=\"text-align: right;\">\n",
       "      <th></th>\n",
       "      <th>StudentID</th>\n",
       "      <th>CGPA</th>\n",
       "      <th>Internships</th>\n",
       "      <th>Projects</th>\n",
       "      <th>Workshops/Certifications</th>\n",
       "      <th>AptitudeTestScore</th>\n",
       "      <th>SoftSkillsRating</th>\n",
       "      <th>SSC_Marks</th>\n",
       "      <th>HSC_Marks</th>\n",
       "    </tr>\n",
       "  </thead>\n",
       "  <tbody>\n",
       "    <tr>\n",
       "      <th>count</th>\n",
       "      <td>10000.00000</td>\n",
       "      <td>10000.000000</td>\n",
       "      <td>10000.000000</td>\n",
       "      <td>10000.000000</td>\n",
       "      <td>10000.000000</td>\n",
       "      <td>10000.000000</td>\n",
       "      <td>10000.000000</td>\n",
       "      <td>10000.000000</td>\n",
       "      <td>10000.000000</td>\n",
       "    </tr>\n",
       "    <tr>\n",
       "      <th>mean</th>\n",
       "      <td>5000.50000</td>\n",
       "      <td>7.698010</td>\n",
       "      <td>1.049200</td>\n",
       "      <td>2.026600</td>\n",
       "      <td>1.013200</td>\n",
       "      <td>79.449900</td>\n",
       "      <td>4.323960</td>\n",
       "      <td>69.159400</td>\n",
       "      <td>74.501500</td>\n",
       "    </tr>\n",
       "    <tr>\n",
       "      <th>std</th>\n",
       "      <td>2886.89568</td>\n",
       "      <td>0.640131</td>\n",
       "      <td>0.665901</td>\n",
       "      <td>0.867968</td>\n",
       "      <td>0.904272</td>\n",
       "      <td>8.159997</td>\n",
       "      <td>0.411622</td>\n",
       "      <td>10.430459</td>\n",
       "      <td>8.919527</td>\n",
       "    </tr>\n",
       "    <tr>\n",
       "      <th>min</th>\n",
       "      <td>1.00000</td>\n",
       "      <td>6.500000</td>\n",
       "      <td>0.000000</td>\n",
       "      <td>0.000000</td>\n",
       "      <td>0.000000</td>\n",
       "      <td>60.000000</td>\n",
       "      <td>3.000000</td>\n",
       "      <td>55.000000</td>\n",
       "      <td>57.000000</td>\n",
       "    </tr>\n",
       "    <tr>\n",
       "      <th>25%</th>\n",
       "      <td>2500.75000</td>\n",
       "      <td>7.400000</td>\n",
       "      <td>1.000000</td>\n",
       "      <td>1.000000</td>\n",
       "      <td>0.000000</td>\n",
       "      <td>73.000000</td>\n",
       "      <td>4.000000</td>\n",
       "      <td>59.000000</td>\n",
       "      <td>67.000000</td>\n",
       "    </tr>\n",
       "    <tr>\n",
       "      <th>50%</th>\n",
       "      <td>5000.50000</td>\n",
       "      <td>7.700000</td>\n",
       "      <td>1.000000</td>\n",
       "      <td>2.000000</td>\n",
       "      <td>1.000000</td>\n",
       "      <td>80.000000</td>\n",
       "      <td>4.400000</td>\n",
       "      <td>70.000000</td>\n",
       "      <td>73.000000</td>\n",
       "    </tr>\n",
       "    <tr>\n",
       "      <th>75%</th>\n",
       "      <td>7500.25000</td>\n",
       "      <td>8.200000</td>\n",
       "      <td>1.000000</td>\n",
       "      <td>3.000000</td>\n",
       "      <td>2.000000</td>\n",
       "      <td>87.000000</td>\n",
       "      <td>4.700000</td>\n",
       "      <td>78.000000</td>\n",
       "      <td>83.000000</td>\n",
       "    </tr>\n",
       "    <tr>\n",
       "      <th>max</th>\n",
       "      <td>10000.00000</td>\n",
       "      <td>9.100000</td>\n",
       "      <td>2.000000</td>\n",
       "      <td>3.000000</td>\n",
       "      <td>3.000000</td>\n",
       "      <td>90.000000</td>\n",
       "      <td>4.800000</td>\n",
       "      <td>90.000000</td>\n",
       "      <td>88.000000</td>\n",
       "    </tr>\n",
       "  </tbody>\n",
       "</table>\n",
       "</div>"
      ],
      "text/plain": [
       "         StudentID          CGPA   Internships      Projects  \\\n",
       "count  10000.00000  10000.000000  10000.000000  10000.000000   \n",
       "mean    5000.50000      7.698010      1.049200      2.026600   \n",
       "std     2886.89568      0.640131      0.665901      0.867968   \n",
       "min        1.00000      6.500000      0.000000      0.000000   \n",
       "25%     2500.75000      7.400000      1.000000      1.000000   \n",
       "50%     5000.50000      7.700000      1.000000      2.000000   \n",
       "75%     7500.25000      8.200000      1.000000      3.000000   \n",
       "max    10000.00000      9.100000      2.000000      3.000000   \n",
       "\n",
       "       Workshops/Certifications  AptitudeTestScore  SoftSkillsRating  \\\n",
       "count              10000.000000       10000.000000      10000.000000   \n",
       "mean                   1.013200          79.449900          4.323960   \n",
       "std                    0.904272           8.159997          0.411622   \n",
       "min                    0.000000          60.000000          3.000000   \n",
       "25%                    0.000000          73.000000          4.000000   \n",
       "50%                    1.000000          80.000000          4.400000   \n",
       "75%                    2.000000          87.000000          4.700000   \n",
       "max                    3.000000          90.000000          4.800000   \n",
       "\n",
       "          SSC_Marks     HSC_Marks  \n",
       "count  10000.000000  10000.000000  \n",
       "mean      69.159400     74.501500  \n",
       "std       10.430459      8.919527  \n",
       "min       55.000000     57.000000  \n",
       "25%       59.000000     67.000000  \n",
       "50%       70.000000     73.000000  \n",
       "75%       78.000000     83.000000  \n",
       "max       90.000000     88.000000  "
      ]
     },
     "execution_count": 8,
     "metadata": {},
     "output_type": "execute_result"
    }
   ],
   "source": [
    "# Summary statistics\n",
    "# if std is 0, that column should be removed from analysis\n",
    "df.describe()"
   ]
  },
  {
   "cell_type": "code",
   "execution_count": 9,
   "metadata": {},
   "outputs": [
    {
     "data": {
      "text/plain": [
       "StudentID                    10000\n",
       "CGPA                         10000\n",
       "Internships                  10000\n",
       "Projects                     10000\n",
       "Workshops/Certifications     10000\n",
       "AptitudeTestScore            10000\n",
       "SoftSkillsRating             10000\n",
       "ExtracurricularActivities    10000\n",
       "PlacementTraining            10000\n",
       "SSC_Marks                    10000\n",
       "HSC_Marks                    10000\n",
       "PlacementStatus              10000\n",
       "dtype: int64"
      ]
     },
     "execution_count": 9,
     "metadata": {},
     "output_type": "execute_result"
    }
   ],
   "source": [
    "df.count()"
   ]
  },
  {
   "cell_type": "code",
   "execution_count": 10,
   "metadata": {},
   "outputs": [
    {
     "data": {
      "text/plain": [
       "StudentID                    0\n",
       "CGPA                         0\n",
       "Internships                  0\n",
       "Projects                     0\n",
       "Workshops/Certifications     0\n",
       "AptitudeTestScore            0\n",
       "SoftSkillsRating             0\n",
       "ExtracurricularActivities    0\n",
       "PlacementTraining            0\n",
       "SSC_Marks                    0\n",
       "HSC_Marks                    0\n",
       "PlacementStatus              0\n",
       "dtype: int64"
      ]
     },
     "execution_count": 10,
     "metadata": {},
     "output_type": "execute_result"
    }
   ],
   "source": [
    "df.isna().sum()"
   ]
  },
  {
   "cell_type": "markdown",
   "metadata": {},
   "source": [
    "## Data Preprocessing"
   ]
  },
  {
   "cell_type": "code",
   "execution_count": 11,
   "metadata": {},
   "outputs": [],
   "source": [
    "df.drop(columns='StudentID', inplace = True)"
   ]
  },
  {
   "cell_type": "markdown",
   "metadata": {},
   "source": [
    "Are there any duplicates?"
   ]
  },
  {
   "cell_type": "code",
   "execution_count": 12,
   "metadata": {},
   "outputs": [
    {
     "data": {
      "text/plain": [
       "72"
      ]
     },
     "execution_count": 12,
     "metadata": {},
     "output_type": "execute_result"
    }
   ],
   "source": [
    "df.duplicated().sum()"
   ]
  },
  {
   "cell_type": "markdown",
   "metadata": {},
   "source": [
    "## Data Analysis"
   ]
  },
  {
   "cell_type": "code",
   "execution_count": 13,
   "metadata": {},
   "outputs": [
    {
     "data": {
      "text/html": [
       "<div>\n",
       "<style scoped>\n",
       "    .dataframe tbody tr th:only-of-type {\n",
       "        vertical-align: middle;\n",
       "    }\n",
       "\n",
       "    .dataframe tbody tr th {\n",
       "        vertical-align: top;\n",
       "    }\n",
       "\n",
       "    .dataframe thead th {\n",
       "        text-align: right;\n",
       "    }\n",
       "</style>\n",
       "<table border=\"1\" class=\"dataframe\">\n",
       "  <thead>\n",
       "    <tr style=\"text-align: right;\">\n",
       "      <th></th>\n",
       "      <th>CGPA</th>\n",
       "      <th>SoftSkillsRating</th>\n",
       "    </tr>\n",
       "    <tr>\n",
       "      <th>PlacementStatus</th>\n",
       "      <th></th>\n",
       "      <th></th>\n",
       "    </tr>\n",
       "  </thead>\n",
       "  <tbody>\n",
       "    <tr>\n",
       "      <th>NotPlaced</th>\n",
       "      <td>7.467672</td>\n",
       "      <td>4.174393</td>\n",
       "    </tr>\n",
       "    <tr>\n",
       "      <th>Placed</th>\n",
       "      <td>8.016488</td>\n",
       "      <td>4.530760</td>\n",
       "    </tr>\n",
       "  </tbody>\n",
       "</table>\n",
       "</div>"
      ],
      "text/plain": [
       "                     CGPA  SoftSkillsRating\n",
       "PlacementStatus                            \n",
       "NotPlaced        7.467672          4.174393\n",
       "Placed           8.016488          4.530760"
      ]
     },
     "execution_count": 13,
     "metadata": {},
     "output_type": "execute_result"
    }
   ],
   "source": [
    "CGPA_effect = df.pivot_table(index = 'PlacementStatus', values= ['CGPA', 'SoftSkillsRating'])\n",
    "CGPA_effect"
   ]
  },
  {
   "cell_type": "markdown",
   "metadata": {},
   "source": [
    "Soft skills rating and CGPA affect greatly."
   ]
  },
  {
   "cell_type": "code",
   "execution_count": 14,
   "metadata": {},
   "outputs": [
    {
     "data": {
      "text/html": [
       "<div>\n",
       "<style scoped>\n",
       "    .dataframe tbody tr th:only-of-type {\n",
       "        vertical-align: middle;\n",
       "    }\n",
       "\n",
       "    .dataframe tbody tr th {\n",
       "        vertical-align: top;\n",
       "    }\n",
       "\n",
       "    .dataframe thead th {\n",
       "        text-align: right;\n",
       "    }\n",
       "</style>\n",
       "<table border=\"1\" class=\"dataframe\">\n",
       "  <thead>\n",
       "    <tr style=\"text-align: right;\">\n",
       "      <th>Internships</th>\n",
       "      <th>0</th>\n",
       "      <th>1</th>\n",
       "      <th>2</th>\n",
       "    </tr>\n",
       "    <tr>\n",
       "      <th>PlacementStatus</th>\n",
       "      <th></th>\n",
       "      <th></th>\n",
       "      <th></th>\n",
       "    </tr>\n",
       "  </thead>\n",
       "  <tbody>\n",
       "    <tr>\n",
       "      <th>NotPlaced</th>\n",
       "      <td>1320</td>\n",
       "      <td>3733</td>\n",
       "      <td>750</td>\n",
       "    </tr>\n",
       "    <tr>\n",
       "      <th>Placed</th>\n",
       "      <td>663</td>\n",
       "      <td>1809</td>\n",
       "      <td>1725</td>\n",
       "    </tr>\n",
       "  </tbody>\n",
       "</table>\n",
       "</div>"
      ],
      "text/plain": [
       "Internships         0     1     2\n",
       "PlacementStatus                  \n",
       "NotPlaced        1320  3733   750\n",
       "Placed            663  1809  1725"
      ]
     },
     "execution_count": 14,
     "metadata": {},
     "output_type": "execute_result"
    }
   ],
   "source": [
    "Internships_effect = df.pivot_table(index = 'PlacementStatus', values= 'CGPA' , columns='Internships', aggfunc='count')\n",
    "Internships_effect"
   ]
  },
  {
   "cell_type": "markdown",
   "metadata": {},
   "source": [
    "## Data Visualization"
   ]
  },
  {
   "cell_type": "code",
   "execution_count": 15,
   "metadata": {},
   "outputs": [
    {
     "data": {
      "image/png": "[encoded data removed]",
      "text/plain": [
       "<Figure size 432x288 with 1 Axes>"
      ]
     },
     "metadata": {
      "needs_background": "light"
     },
     "output_type": "display_data"
    }
   ],
   "source": [
    "X = Internships_effect.columns\n",
    "X_axis = np.arange(len(X))\n",
    "\n",
    "plt.bar(X_axis - 0.2, Internships_effect.iloc[0,:], 0.4, label = 'NotPlaced')\n",
    "plt.bar(X_axis + 0.2, Internships_effect.iloc[1,:], 0.4, label = 'Placed')\n",
    "\n",
    "plt.xticks(X_axis, X)\n",
    "plt.xlabel(\"Number of internships\")\n",
    "plt.ylabel(\"Number of placements\")\n",
    "plt.title(\"internships effect\")\n",
    "plt.legend()\n",
    "plt.show()"
   ]
  },
  {
   "cell_type": "code",
   "execution_count": 16,
   "metadata": {},
   "outputs": [
    {
     "data": {
      "text/html": [
       "<div>\n",
       "<style scoped>\n",
       "    .dataframe tbody tr th:only-of-type {\n",
       "        vertical-align: middle;\n",
       "    }\n",
       "\n",
       "    .dataframe tbody tr th {\n",
       "        vertical-align: top;\n",
       "    }\n",
       "\n",
       "    .dataframe thead th {\n",
       "        text-align: right;\n",
       "    }\n",
       "</style>\n",
       "<table border=\"1\" class=\"dataframe\">\n",
       "  <thead>\n",
       "    <tr style=\"text-align: right;\">\n",
       "      <th>Projects</th>\n",
       "      <th>0</th>\n",
       "      <th>1</th>\n",
       "      <th>2</th>\n",
       "      <th>3</th>\n",
       "    </tr>\n",
       "    <tr>\n",
       "      <th>PlacementStatus</th>\n",
       "      <th></th>\n",
       "      <th></th>\n",
       "      <th></th>\n",
       "      <th></th>\n",
       "    </tr>\n",
       "  </thead>\n",
       "  <tbody>\n",
       "    <tr>\n",
       "      <th>NotPlaced</th>\n",
       "      <td>12</td>\n",
       "      <td>2949</td>\n",
       "      <td>1750</td>\n",
       "      <td>1092</td>\n",
       "    </tr>\n",
       "    <tr>\n",
       "      <th>Placed</th>\n",
       "      <td>18</td>\n",
       "      <td>598</td>\n",
       "      <td>800</td>\n",
       "      <td>2781</td>\n",
       "    </tr>\n",
       "  </tbody>\n",
       "</table>\n",
       "</div>"
      ],
      "text/plain": [
       "Projects          0     1     2     3\n",
       "PlacementStatus                      \n",
       "NotPlaced        12  2949  1750  1092\n",
       "Placed           18   598   800  2781"
      ]
     },
     "execution_count": 16,
     "metadata": {},
     "output_type": "execute_result"
    }
   ],
   "source": [
    "Projects_effect = df.pivot_table(index = 'PlacementStatus', values= 'CGPA' , columns='Projects', aggfunc='count')\n",
    "Projects_effect"
   ]
  },
  {
   "cell_type": "code",
   "execution_count": 17,
   "metadata": {},
   "outputs": [
    {
     "data": {
      "image/png": "[encoded data removed]",
      "text/plain": [
       "<Figure size 432x288 with 1 Axes>"
      ]
     },
     "metadata": {
      "needs_background": "light"
     },
     "output_type": "display_data"
    }
   ],
   "source": [
    "X = Projects_effect.columns\n",
    "X_axis = np.arange(len(X))\n",
    "\n",
    "plt.bar(X_axis - 0.2, Projects_effect.iloc[0,:], 0.4, label = 'NotPlaced')\n",
    "plt.bar(X_axis + 0.2, Projects_effect.iloc[1,:], 0.4, label = 'Placed')\n",
    "\n",
    "plt.xticks(X_axis, X)\n",
    "plt.xlabel(\"Number of projects\")\n",
    "plt.ylabel(\"Number of placements\")\n",
    "plt.title(\"projects effect\")\n",
    "plt.legend()\n",
    "plt.show()"
   ]
  },
  {
   "cell_type": "code",
   "execution_count": 18,
   "metadata": {},
   "outputs": [
    {
     "data": {
      "text/html": [
       "<div>\n",
       "<style scoped>\n",
       "    .dataframe tbody tr th:only-of-type {\n",
       "        vertical-align: middle;\n",
       "    }\n",
       "\n",
       "    .dataframe tbody tr th {\n",
       "        vertical-align: top;\n",
       "    }\n",
       "\n",
       "    .dataframe thead th {\n",
       "        text-align: right;\n",
       "    }\n",
       "</style>\n",
       "<table border=\"1\" class=\"dataframe\">\n",
       "  <thead>\n",
       "    <tr style=\"text-align: right;\">\n",
       "      <th>Workshops/Certifications</th>\n",
       "      <th>0</th>\n",
       "      <th>1</th>\n",
       "      <th>2</th>\n",
       "      <th>3</th>\n",
       "    </tr>\n",
       "    <tr>\n",
       "      <th>PlacementStatus</th>\n",
       "      <th></th>\n",
       "      <th></th>\n",
       "      <th></th>\n",
       "      <th></th>\n",
       "    </tr>\n",
       "  </thead>\n",
       "  <tbody>\n",
       "    <tr>\n",
       "      <th>NotPlaced</th>\n",
       "      <td>2678</td>\n",
       "      <td>2111</td>\n",
       "      <td>890</td>\n",
       "      <td>124</td>\n",
       "    </tr>\n",
       "    <tr>\n",
       "      <th>Placed</th>\n",
       "      <td>1061</td>\n",
       "      <td>563</td>\n",
       "      <td>2413</td>\n",
       "      <td>160</td>\n",
       "    </tr>\n",
       "  </tbody>\n",
       "</table>\n",
       "</div>"
      ],
      "text/plain": [
       "Workshops/Certifications     0     1     2    3\n",
       "PlacementStatus                                \n",
       "NotPlaced                 2678  2111   890  124\n",
       "Placed                    1061   563  2413  160"
      ]
     },
     "execution_count": 18,
     "metadata": {},
     "output_type": "execute_result"
    }
   ],
   "source": [
    "Workshops_effect = df.pivot_table(index = 'PlacementStatus', values= 'CGPA' , columns='Workshops/Certifications', aggfunc='count')\n",
    "Workshops_effect"
   ]
  },
  {
   "cell_type": "code",
   "execution_count": 19,
   "metadata": {},
   "outputs": [
    {
     "data": {
      "image/png": "[encoded data removed]",
      "text/plain": [
       "<Figure size 432x288 with 1 Axes>"
      ]
     },
     "metadata": {
      "needs_background": "light"
     },
     "output_type": "display_data"
    }
   ],
   "source": [
    "X = Workshops_effect.columns\n",
    "X_axis = np.arange(len(X))\n",
    "\n",
    "plt.bar(X_axis - 0.2, Workshops_effect.iloc[0,:], 0.4, label = 'NotPlaced')\n",
    "plt.bar(X_axis + 0.2, Workshops_effect.iloc[1,:], 0.4, label = 'Placed')\n",
    "\n",
    "plt.xticks(X_axis, X)\n",
    "plt.xlabel(\"Number of Workshops\")\n",
    "plt.ylabel(\"Number of placements\")\n",
    "plt.title(\"Workshops effect\")\n",
    "plt.legend()\n",
    "plt.show()"
   ]
  },
  {
   "cell_type": "code",
   "execution_count": 20,
   "metadata": {},
   "outputs": [
    {
     "data": {
      "text/html": [
       "<div>\n",
       "<style scoped>\n",
       "    .dataframe tbody tr th:only-of-type {\n",
       "        vertical-align: middle;\n",
       "    }\n",
       "\n",
       "    .dataframe tbody tr th {\n",
       "        vertical-align: top;\n",
       "    }\n",
       "\n",
       "    .dataframe thead th {\n",
       "        text-align: right;\n",
       "    }\n",
       "</style>\n",
       "<table border=\"1\" class=\"dataframe\">\n",
       "  <thead>\n",
       "    <tr style=\"text-align: right;\">\n",
       "      <th></th>\n",
       "      <th>AptitudeTestScore</th>\n",
       "      <th>HSC_Marks</th>\n",
       "      <th>SSC_Marks</th>\n",
       "    </tr>\n",
       "    <tr>\n",
       "      <th>PlacementStatus</th>\n",
       "      <th></th>\n",
       "      <th></th>\n",
       "      <th></th>\n",
       "    </tr>\n",
       "  </thead>\n",
       "  <tbody>\n",
       "    <tr>\n",
       "      <th>NotPlaced</th>\n",
       "      <td>75.829399</td>\n",
       "      <td>70.665346</td>\n",
       "      <td>64.992590</td>\n",
       "    </tr>\n",
       "    <tr>\n",
       "      <th>Placed</th>\n",
       "      <td>84.455802</td>\n",
       "      <td>79.805575</td>\n",
       "      <td>74.920658</td>\n",
       "    </tr>\n",
       "  </tbody>\n",
       "</table>\n",
       "</div>"
      ],
      "text/plain": [
       "                 AptitudeTestScore  HSC_Marks  SSC_Marks\n",
       "PlacementStatus                                         \n",
       "NotPlaced                75.829399  70.665346  64.992590\n",
       "Placed                   84.455802  79.805575  74.920658"
      ]
     },
     "execution_count": 20,
     "metadata": {},
     "output_type": "execute_result"
    }
   ],
   "source": [
    "marks_effect = df.pivot_table(index = 'PlacementStatus', values= ['AptitudeTestScore', 'SSC_Marks', 'HSC_Marks'])\n",
    "marks_effect"
   ]
  },
  {
   "cell_type": "code",
   "execution_count": 21,
   "metadata": {},
   "outputs": [
    {
     "data": {
      "image/png": "[encoded data removed]",
      "text/plain": [
       "<Figure size 432x288 with 1 Axes>"
      ]
     },
     "metadata": {
      "needs_background": "light"
     },
     "output_type": "display_data"
    }
   ],
   "source": [
    "X = marks_effect.columns\n",
    "X_axis = np.arange(len(X))\n",
    "\n",
    "plt.bar(X_axis + 0.2, marks_effect.iloc[0,:], 0.4, label = 'NotPlaced')\n",
    "plt.bar(X_axis - 0.2, marks_effect.iloc[1,:], 0.4, label = 'Placed')\n",
    "\n",
    "plt.xticks(X_axis, X)\n",
    "plt.xlabel(\"Type\")\n",
    "plt.ylabel(\"Marks\")\n",
    "plt.title(\"Marks effect\")\n",
    "plt.legend()\n",
    "plt.show()"
   ]
  },
  {
   "cell_type": "markdown",
   "metadata": {},
   "source": [
    "Aptitude test score must be great"
   ]
  },
  {
   "cell_type": "code",
   "execution_count": 22,
   "metadata": {},
   "outputs": [
    {
     "data": {
      "text/plain": [
       "NotPlaced    5803\n",
       "Placed       4197\n",
       "Name: PlacementStatus, dtype: int64"
      ]
     },
     "execution_count": 22,
     "metadata": {},
     "output_type": "execute_result"
    }
   ],
   "source": [
    "df.PlacementStatus.value_counts()"
   ]
  },
  {
   "cell_type": "code",
   "execution_count": 23,
   "metadata": {},
   "outputs": [
    {
     "data": {
      "text/plain": [
       "<AxesSubplot:>"
      ]
     },
     "execution_count": 23,
     "metadata": {},
     "output_type": "execute_result"
    },
    {
     "data": {
      "image/png": "[encoded data removed]",
      "text/plain": [
       "<Figure size 432x288 with 1 Axes>"
      ]
     },
     "metadata": {
      "needs_background": "light"
     },
     "output_type": "display_data"
    }
   ],
   "source": [
    "df.PlacementStatus.value_counts().plot(kind = 'bar')"
   ]
  },
  {
   "cell_type": "markdown",
   "metadata": {},
   "source": [
    "## Data Encoding"
   ]
  },
  {
   "cell_type": "code",
   "execution_count": 24,
   "metadata": {},
   "outputs": [],
   "source": [
    "from sklearn.preprocessing import LabelEncoder\n",
    "\n",
    "for col in df.columns : \n",
    "  if df[col].dtypes =='object' : \n",
    "    enc  = LabelEncoder()\n",
    "    enc.fit(df[col].astype(str))\n",
    "    df[f'{col}_'] = enc.transform(df[col].astype(str))\n",
    "    df.drop([col],axis=1, inplace=True)      "
   ]
  },
  {
   "cell_type": "code",
   "execution_count": 25,
   "metadata": {},
   "outputs": [
    {
     "data": {
      "text/html": [
       "<div>\n",
       "<style scoped>\n",
       "    .dataframe tbody tr th:only-of-type {\n",
       "        vertical-align: middle;\n",
       "    }\n",
       "\n",
       "    .dataframe tbody tr th {\n",
       "        vertical-align: top;\n",
       "    }\n",
       "\n",
       "    .dataframe thead th {\n",
       "        text-align: right;\n",
       "    }\n",
       "</style>\n",
       "<table border=\"1\" class=\"dataframe\">\n",
       "  <thead>\n",
       "    <tr style=\"text-align: right;\">\n",
       "      <th></th>\n",
       "      <th>CGPA</th>\n",
       "      <th>Internships</th>\n",
       "      <th>Projects</th>\n",
       "      <th>Workshops/Certifications</th>\n",
       "      <th>AptitudeTestScore</th>\n",
       "      <th>SoftSkillsRating</th>\n",
       "      <th>SSC_Marks</th>\n",
       "      <th>HSC_Marks</th>\n",
       "      <th>ExtracurricularActivities_</th>\n",
       "      <th>PlacementTraining_</th>\n",
       "      <th>PlacementStatus_</th>\n",
       "    </tr>\n",
       "  </thead>\n",
       "  <tbody>\n",
       "    <tr>\n",
       "      <th>0</th>\n",
       "      <td>7.5</td>\n",
       "      <td>1</td>\n",
       "      <td>1</td>\n",
       "      <td>1</td>\n",
       "      <td>65</td>\n",
       "      <td>4.4</td>\n",
       "      <td>61</td>\n",
       "      <td>79</td>\n",
       "      <td>0</td>\n",
       "      <td>0</td>\n",
       "      <td>0</td>\n",
       "    </tr>\n",
       "    <tr>\n",
       "      <th>1</th>\n",
       "      <td>8.9</td>\n",
       "      <td>0</td>\n",
       "      <td>3</td>\n",
       "      <td>2</td>\n",
       "      <td>90</td>\n",
       "      <td>4.0</td>\n",
       "      <td>78</td>\n",
       "      <td>82</td>\n",
       "      <td>1</td>\n",
       "      <td>1</td>\n",
       "      <td>1</td>\n",
       "    </tr>\n",
       "    <tr>\n",
       "      <th>2</th>\n",
       "      <td>7.3</td>\n",
       "      <td>1</td>\n",
       "      <td>2</td>\n",
       "      <td>2</td>\n",
       "      <td>82</td>\n",
       "      <td>4.8</td>\n",
       "      <td>79</td>\n",
       "      <td>80</td>\n",
       "      <td>1</td>\n",
       "      <td>0</td>\n",
       "      <td>0</td>\n",
       "    </tr>\n",
       "    <tr>\n",
       "      <th>3</th>\n",
       "      <td>7.5</td>\n",
       "      <td>1</td>\n",
       "      <td>1</td>\n",
       "      <td>2</td>\n",
       "      <td>85</td>\n",
       "      <td>4.4</td>\n",
       "      <td>81</td>\n",
       "      <td>80</td>\n",
       "      <td>1</td>\n",
       "      <td>1</td>\n",
       "      <td>1</td>\n",
       "    </tr>\n",
       "    <tr>\n",
       "      <th>4</th>\n",
       "      <td>8.3</td>\n",
       "      <td>1</td>\n",
       "      <td>2</td>\n",
       "      <td>2</td>\n",
       "      <td>86</td>\n",
       "      <td>4.5</td>\n",
       "      <td>74</td>\n",
       "      <td>88</td>\n",
       "      <td>1</td>\n",
       "      <td>1</td>\n",
       "      <td>1</td>\n",
       "    </tr>\n",
       "  </tbody>\n",
       "</table>\n",
       "</div>"
      ],
      "text/plain": [
       "   CGPA  Internships  Projects  Workshops/Certifications  AptitudeTestScore  \\\n",
       "0   7.5            1         1                         1                 65   \n",
       "1   8.9            0         3                         2                 90   \n",
       "2   7.3            1         2                         2                 82   \n",
       "3   7.5            1         1                         2                 85   \n",
       "4   8.3            1         2                         2                 86   \n",
       "\n",
       "   SoftSkillsRating  SSC_Marks  HSC_Marks  ExtracurricularActivities_  \\\n",
       "0               4.4         61         79                           0   \n",
       "1               4.0         78         82                           1   \n",
       "2               4.8         79         80                           1   \n",
       "3               4.4         81         80                           1   \n",
       "4               4.5         74         88                           1   \n",
       "\n",
       "   PlacementTraining_  PlacementStatus_  \n",
       "0                   0                 0  \n",
       "1                   1                 1  \n",
       "2                   0                 0  \n",
       "3                   1                 1  \n",
       "4                   1                 1  "
      ]
     },
     "execution_count": 25,
     "metadata": {},
     "output_type": "execute_result"
    }
   ],
   "source": [
    "df.head()"
   ]
  },
  {
   "cell_type": "code",
   "execution_count": 26,
   "metadata": {},
   "outputs": [],
   "source": [
    "df.rename(columns={'ExtracurricularActivities_': 'ExtracurricularActivities',\n",
    "                    'PlacementTraining': 'PlacementTraining',\n",
    "                    'PlacementStatus_': 'PlacementStatus'}, inplace= True)"
   ]
  },
  {
   "cell_type": "markdown",
   "metadata": {},
   "source": [
    "## Correlation analysis"
   ]
  },
  {
   "cell_type": "code",
   "execution_count": 27,
   "metadata": {},
   "outputs": [
    {
     "data": {
      "text/html": [
       "<div>\n",
       "<style scoped>\n",
       "    .dataframe tbody tr th:only-of-type {\n",
       "        vertical-align: middle;\n",
       "    }\n",
       "\n",
       "    .dataframe tbody tr th {\n",
       "        vertical-align: top;\n",
       "    }\n",
       "\n",
       "    .dataframe thead th {\n",
       "        text-align: right;\n",
       "    }\n",
       "</style>\n",
       "<table border=\"1\" class=\"dataframe\">\n",
       "  <thead>\n",
       "    <tr style=\"text-align: right;\">\n",
       "      <th></th>\n",
       "      <th>CGPA</th>\n",
       "      <th>Internships</th>\n",
       "      <th>Projects</th>\n",
       "      <th>Workshops/Certifications</th>\n",
       "      <th>AptitudeTestScore</th>\n",
       "      <th>SoftSkillsRating</th>\n",
       "      <th>SSC_Marks</th>\n",
       "      <th>HSC_Marks</th>\n",
       "      <th>ExtracurricularActivities</th>\n",
       "      <th>PlacementTraining_</th>\n",
       "      <th>PlacementStatus</th>\n",
       "    </tr>\n",
       "  </thead>\n",
       "  <tbody>\n",
       "    <tr>\n",
       "      <th>CGPA</th>\n",
       "      <td>1.000000</td>\n",
       "      <td>0.280601</td>\n",
       "      <td>0.435928</td>\n",
       "      <td>0.349686</td>\n",
       "      <td>0.461250</td>\n",
       "      <td>0.383547</td>\n",
       "      <td>0.404971</td>\n",
       "      <td>0.462313</td>\n",
       "      <td>0.444130</td>\n",
       "      <td>0.251628</td>\n",
       "      <td>0.423131</td>\n",
       "    </tr>\n",
       "    <tr>\n",
       "      <th>Internships</th>\n",
       "      <td>0.280601</td>\n",
       "      <td>1.000000</td>\n",
       "      <td>0.309196</td>\n",
       "      <td>0.279110</td>\n",
       "      <td>0.320725</td>\n",
       "      <td>0.273691</td>\n",
       "      <td>0.279837</td>\n",
       "      <td>0.317149</td>\n",
       "      <td>0.274960</td>\n",
       "      <td>0.153547</td>\n",
       "      <td>0.260340</td>\n",
       "    </tr>\n",
       "    <tr>\n",
       "      <th>Projects</th>\n",
       "      <td>0.435928</td>\n",
       "      <td>0.309196</td>\n",
       "      <td>1.000000</td>\n",
       "      <td>0.377865</td>\n",
       "      <td>0.540339</td>\n",
       "      <td>0.450294</td>\n",
       "      <td>0.499421</td>\n",
       "      <td>0.535708</td>\n",
       "      <td>0.491430</td>\n",
       "      <td>0.293709</td>\n",
       "      <td>0.475186</td>\n",
       "    </tr>\n",
       "    <tr>\n",
       "      <th>Workshops/Certifications</th>\n",
       "      <td>0.349686</td>\n",
       "      <td>0.279110</td>\n",
       "      <td>0.377865</td>\n",
       "      <td>1.000000</td>\n",
       "      <td>0.388061</td>\n",
       "      <td>0.342397</td>\n",
       "      <td>0.373045</td>\n",
       "      <td>0.418442</td>\n",
       "      <td>0.373926</td>\n",
       "      <td>0.180333</td>\n",
       "      <td>0.362268</td>\n",
       "    </tr>\n",
       "    <tr>\n",
       "      <th>AptitudeTestScore</th>\n",
       "      <td>0.461250</td>\n",
       "      <td>0.320725</td>\n",
       "      <td>0.540339</td>\n",
       "      <td>0.388061</td>\n",
       "      <td>1.000000</td>\n",
       "      <td>0.515400</td>\n",
       "      <td>0.513044</td>\n",
       "      <td>0.565105</td>\n",
       "      <td>0.474130</td>\n",
       "      <td>0.314772</td>\n",
       "      <td>0.521744</td>\n",
       "    </tr>\n",
       "    <tr>\n",
       "      <th>SoftSkillsRating</th>\n",
       "      <td>0.383547</td>\n",
       "      <td>0.273691</td>\n",
       "      <td>0.450294</td>\n",
       "      <td>0.342397</td>\n",
       "      <td>0.515400</td>\n",
       "      <td>1.000000</td>\n",
       "      <td>0.430734</td>\n",
       "      <td>0.466912</td>\n",
       "      <td>0.448049</td>\n",
       "      <td>0.235571</td>\n",
       "      <td>0.427284</td>\n",
       "    </tr>\n",
       "    <tr>\n",
       "      <th>SSC_Marks</th>\n",
       "      <td>0.404971</td>\n",
       "      <td>0.279837</td>\n",
       "      <td>0.499421</td>\n",
       "      <td>0.373045</td>\n",
       "      <td>0.513044</td>\n",
       "      <td>0.430734</td>\n",
       "      <td>1.000000</td>\n",
       "      <td>0.524916</td>\n",
       "      <td>0.517850</td>\n",
       "      <td>0.257440</td>\n",
       "      <td>0.469763</td>\n",
       "    </tr>\n",
       "    <tr>\n",
       "      <th>HSC_Marks</th>\n",
       "      <td>0.462313</td>\n",
       "      <td>0.317149</td>\n",
       "      <td>0.535708</td>\n",
       "      <td>0.418442</td>\n",
       "      <td>0.565105</td>\n",
       "      <td>0.466912</td>\n",
       "      <td>0.524916</td>\n",
       "      <td>1.000000</td>\n",
       "      <td>0.533572</td>\n",
       "      <td>0.325434</td>\n",
       "      <td>0.505746</td>\n",
       "    </tr>\n",
       "    <tr>\n",
       "      <th>ExtracurricularActivities</th>\n",
       "      <td>0.444130</td>\n",
       "      <td>0.274960</td>\n",
       "      <td>0.491430</td>\n",
       "      <td>0.373926</td>\n",
       "      <td>0.474130</td>\n",
       "      <td>0.448049</td>\n",
       "      <td>0.517850</td>\n",
       "      <td>0.533572</td>\n",
       "      <td>1.000000</td>\n",
       "      <td>0.327158</td>\n",
       "      <td>0.482491</td>\n",
       "    </tr>\n",
       "    <tr>\n",
       "      <th>PlacementTraining_</th>\n",
       "      <td>0.251628</td>\n",
       "      <td>0.153547</td>\n",
       "      <td>0.293709</td>\n",
       "      <td>0.180333</td>\n",
       "      <td>0.314772</td>\n",
       "      <td>0.235571</td>\n",
       "      <td>0.257440</td>\n",
       "      <td>0.325434</td>\n",
       "      <td>0.327158</td>\n",
       "      <td>1.000000</td>\n",
       "      <td>0.323659</td>\n",
       "    </tr>\n",
       "    <tr>\n",
       "      <th>PlacementStatus</th>\n",
       "      <td>0.423131</td>\n",
       "      <td>0.260340</td>\n",
       "      <td>0.475186</td>\n",
       "      <td>0.362268</td>\n",
       "      <td>0.521744</td>\n",
       "      <td>0.427284</td>\n",
       "      <td>0.469763</td>\n",
       "      <td>0.505746</td>\n",
       "      <td>0.482491</td>\n",
       "      <td>0.323659</td>\n",
       "      <td>1.000000</td>\n",
       "    </tr>\n",
       "  </tbody>\n",
       "</table>\n",
       "</div>"
      ],
      "text/plain": [
       "                               CGPA  Internships  Projects  \\\n",
       "CGPA                       1.000000     0.280601  0.435928   \n",
       "Internships                0.280601     1.000000  0.309196   \n",
       "Projects                   0.435928     0.309196  1.000000   \n",
       "Workshops/Certifications   0.349686     0.279110  0.377865   \n",
       "AptitudeTestScore          0.461250     0.320725  0.540339   \n",
       "SoftSkillsRating           0.383547     0.273691  0.450294   \n",
       "SSC_Marks                  0.404971     0.279837  0.499421   \n",
       "HSC_Marks                  0.462313     0.317149  0.535708   \n",
       "ExtracurricularActivities  0.444130     0.274960  0.491430   \n",
       "PlacementTraining_         0.251628     0.153547  0.293709   \n",
       "PlacementStatus            0.423131     0.260340  0.475186   \n",
       "\n",
       "                           Workshops/Certifications  AptitudeTestScore  \\\n",
       "CGPA                                       0.349686           0.461250   \n",
       "Internships                                0.279110           0.320725   \n",
       "Projects                                   0.377865           0.540339   \n",
       "Workshops/Certifications                   1.000000           0.388061   \n",
       "AptitudeTestScore                          0.388061           1.000000   \n",
       "SoftSkillsRating                           0.342397           0.515400   \n",
       "SSC_Marks                                  0.373045           0.513044   \n",
       "HSC_Marks                                  0.418442           0.565105   \n",
       "ExtracurricularActivities                  0.373926           0.474130   \n",
       "PlacementTraining_                         0.180333           0.314772   \n",
       "PlacementStatus                            0.362268           0.521744   \n",
       "\n",
       "                           SoftSkillsRating  SSC_Marks  HSC_Marks  \\\n",
       "CGPA                               0.383547   0.404971   0.462313   \n",
       "Internships                        0.273691   0.279837   0.317149   \n",
       "Projects                           0.450294   0.499421   0.535708   \n",
       "Workshops/Certifications           0.342397   0.373045   0.418442   \n",
       "AptitudeTestScore                  0.515400   0.513044   0.565105   \n",
       "SoftSkillsRating                   1.000000   0.430734   0.466912   \n",
       "SSC_Marks                          0.430734   1.000000   0.524916   \n",
       "HSC_Marks                          0.466912   0.524916   1.000000   \n",
       "ExtracurricularActivities          0.448049   0.517850   0.533572   \n",
       "PlacementTraining_                 0.235571   0.257440   0.325434   \n",
       "PlacementStatus                    0.427284   0.469763   0.505746   \n",
       "\n",
       "                           ExtracurricularActivities  PlacementTraining_  \\\n",
       "CGPA                                        0.444130            0.251628   \n",
       "Internships                                 0.274960            0.153547   \n",
       "Projects                                    0.491430            0.293709   \n",
       "Workshops/Certifications                    0.373926            0.180333   \n",
       "AptitudeTestScore                           0.474130            0.314772   \n",
       "SoftSkillsRating                            0.448049            0.235571   \n",
       "SSC_Marks                                   0.517850            0.257440   \n",
       "HSC_Marks                                   0.533572            0.325434   \n",
       "ExtracurricularActivities                   1.000000            0.327158   \n",
       "PlacementTraining_                          0.327158            1.000000   \n",
       "PlacementStatus                             0.482491            0.323659   \n",
       "\n",
       "                           PlacementStatus  \n",
       "CGPA                              0.423131  \n",
       "Internships                       0.260340  \n",
       "Projects                          0.475186  \n",
       "Workshops/Certifications          0.362268  \n",
       "AptitudeTestScore                 0.521744  \n",
       "SoftSkillsRating                  0.427284  \n",
       "SSC_Marks                         0.469763  \n",
       "HSC_Marks                         0.505746  \n",
       "ExtracurricularActivities         0.482491  \n",
       "PlacementTraining_                0.323659  \n",
       "PlacementStatus                   1.000000  "
      ]
     },
     "execution_count": 27,
     "metadata": {},
     "output_type": "execute_result"
    }
   ],
   "source": [
    "df.corr()"
   ]
  },
  {
   "cell_type": "markdown",
   "metadata": {},
   "source": [
    "## Correlation matrix"
   ]
  },
  {
   "cell_type": "code",
   "execution_count": 28,
   "metadata": {},
   "outputs": [
    {
     "data": {
      "image/png": "[encoded data removed]",
      "text/plain": [
       "<Figure size 864x576 with 2 Axes>"
      ]
     },
     "metadata": {
      "needs_background": "light"
     },
     "output_type": "display_data"
    }
   ],
   "source": [
    "# Calculate correlation matrix\n",
    "correlation_matrix = df.corr()\n",
    "\n",
    "# Heatmap of the correlation matrix\n",
    "plt.figure(figsize=(12, 8))\n",
    "sns.heatmap(correlation_matrix, annot=True, cmap='coolwarm')\n",
    "plt.title('Correlation Heatmap')\n",
    "plt.show()"
   ]
  },
  {
   "cell_type": "markdown",
   "metadata": {},
   "source": [
    "## Data splitting"
   ]
  },
  {
   "cell_type": "code",
   "execution_count": 29,
   "metadata": {},
   "outputs": [],
   "source": [
    "X = df.drop(columns= 'PlacementStatus')\n",
    "y = df['PlacementStatus']"
   ]
  },
  {
   "cell_type": "code",
   "execution_count": 30,
   "metadata": {},
   "outputs": [
    {
     "name": "stdout",
     "output_type": "stream",
     "text": [
      "X_train shape is  (6700, 10)\n",
      "X_test shape is  (3300, 10)\n",
      "y_train shape is  (6700,)\n",
      "y_test shape is  (3300,)\n"
     ]
    }
   ],
   "source": [
    "# Import Libraries\n",
    "from sklearn.model_selection import train_test_split\n",
    "#----------------------------------------------------\n",
    "\n",
    "#----------------------------------------------------\n",
    "#Splitting data\n",
    "\n",
    "X_train, X_test, y_train, y_test = train_test_split(X, y, test_size=0.33, random_state=44, shuffle =True)\n",
    "\n",
    "#Splitted Data\n",
    "print('X_train shape is ' , X_train.shape)\n",
    "print('X_test shape is ' , X_test.shape)\n",
    "print('y_train shape is ' , y_train.shape)\n",
    "print('y_test shape is ' , y_test.shape)"
   ]
  },
  {
   "cell_type": "markdown",
   "metadata": {},
   "source": [
    "## Predicting which classifier is best for this model"
   ]
  },
  {
   "cell_type": "code",
   "execution_count": 31,
   "metadata": {},
   "outputs": [
    {
     "name": "stdout",
     "output_type": "stream",
     "text": [
      "for Model GaussianNB\n",
      "Train Score is : 0.7959701492537313\n",
      "Test Score is : 0.7948484848484848\n",
      "Classification Report is : \n",
      "               precision    recall  f1-score   support\n",
      "\n",
      "           0       0.84      0.80      0.82      1924\n",
      "           1       0.74      0.79      0.76      1376\n",
      "\n",
      "    accuracy                           0.79      3300\n",
      "   macro avg       0.79      0.79      0.79      3300\n",
      "weighted avg       0.80      0.79      0.80      3300\n",
      "\n",
      "Precision value is  : 0.79\n",
      "Recall value is  : 0.79\n",
      "F1 Score value is  : 0.79\n",
      "=================================================\n",
      "for Model KNeighborsClassifier\n",
      "Train Score is : 0.8217910447761194\n",
      "Test Score is : 0.7648484848484849\n",
      "Classification Report is : \n",
      "               precision    recall  f1-score   support\n",
      "\n",
      "           0       0.79      0.81      0.80      1924\n",
      "           1       0.72      0.71      0.71      1376\n",
      "\n",
      "    accuracy                           0.76      3300\n",
      "   macro avg       0.76      0.76      0.76      3300\n",
      "weighted avg       0.76      0.76      0.76      3300\n",
      "\n",
      "Precision value is  : 0.76\n",
      "Recall value is  : 0.76\n",
      "F1 Score value is  : 0.76\n",
      "=================================================\n",
      "for Model MultinomialNB\n",
      "Train Score is : 0.7461194029850746\n",
      "Test Score is : 0.7372727272727273\n",
      "Classification Report is : \n",
      "               precision    recall  f1-score   support\n",
      "\n",
      "           0       0.76      0.81      0.78      1924\n",
      "           1       0.71      0.63      0.67      1376\n",
      "\n",
      "    accuracy                           0.74      3300\n",
      "   macro avg       0.73      0.72      0.73      3300\n",
      "weighted avg       0.74      0.74      0.73      3300\n",
      "\n",
      "Precision value is  : 0.73\n",
      "Recall value is  : 0.72\n",
      "F1 Score value is  : 0.73\n",
      "=================================================\n",
      "for Model BernoulliNB\n",
      "Train Score is : 0.7485074626865672\n",
      "Test Score is : 0.7460606060606061\n",
      "Classification Report is : \n",
      "               precision    recall  f1-score   support\n",
      "\n",
      "           0       0.76      0.82      0.79      1924\n",
      "           1       0.72      0.64      0.68      1376\n",
      "\n",
      "    accuracy                           0.75      3300\n",
      "   macro avg       0.74      0.73      0.73      3300\n",
      "weighted avg       0.74      0.75      0.74      3300\n",
      "\n",
      "Precision value is  : 0.74\n",
      "Recall value is  : 0.73\n",
      "F1 Score value is  : 0.73\n",
      "=================================================\n",
      "for Model LogisticRegression\n",
      "Train Score is : 0.7670149253731343\n",
      "Test Score is : 0.7612121212121212\n",
      "Classification Report is : \n",
      "               precision    recall  f1-score   support\n",
      "\n",
      "           0       0.80      0.79      0.79      1924\n",
      "           1       0.71      0.72      0.72      1376\n",
      "\n",
      "    accuracy                           0.76      3300\n",
      "   macro avg       0.75      0.76      0.75      3300\n",
      "weighted avg       0.76      0.76      0.76      3300\n",
      "\n",
      "Precision value is  : 0.75\n",
      "Recall value is  : 0.76\n",
      "F1 Score value is  : 0.75\n",
      "=================================================\n",
      "for Model RandomForestClassifier\n"
     ]
    },
    {
     "name": "stderr",
     "output_type": "stream",
     "text": [
      "C:\\Users\\Prudhvi\\anaconda3\\lib\\site-packages\\sklearn\\linear_model\\_sag.py:329: ConvergenceWarning: The max_iter was reached which means the coef_ did not converge\n",
      "  warnings.warn(\"The max_iter was reached which means \"\n"
     ]
    },
    {
     "name": "stdout",
     "output_type": "stream",
     "text": [
      "Train Score is : 0.8323880597014925\n",
      "Test Score is : 0.7975757575757576\n",
      "Classification Report is : \n",
      "               precision    recall  f1-score   support\n",
      "\n",
      "           0       0.82      0.84      0.83      1924\n",
      "           1       0.76      0.74      0.75      1376\n",
      "\n",
      "    accuracy                           0.80      3300\n",
      "   macro avg       0.79      0.79      0.79      3300\n",
      "weighted avg       0.80      0.80      0.80      3300\n",
      "\n",
      "Precision value is  : 0.79\n",
      "Recall value is  : 0.79\n",
      "F1 Score value is  : 0.79\n",
      "=================================================\n",
      "for Model GradientBoostingClassifier\n",
      "Train Score is : 0.8171641791044776\n",
      "Test Score is : 0.8051515151515152\n",
      "Classification Report is : \n",
      "               precision    recall  f1-score   support\n",
      "\n",
      "           0       0.82      0.85      0.83      1924\n",
      "           1       0.78      0.75      0.76      1376\n",
      "\n",
      "    accuracy                           0.81      3300\n",
      "   macro avg       0.80      0.80      0.80      3300\n",
      "weighted avg       0.80      0.81      0.80      3300\n",
      "\n",
      "Precision value is  : 0.80\n",
      "Recall value is  : 0.80\n",
      "F1 Score value is  : 0.80\n",
      "=================================================\n",
      "for Model SGDClassifier\n",
      "Train Score is : 0.7629850746268657\n",
      "Test Score is : 0.75\n",
      "Classification Report is : \n",
      "               precision    recall  f1-score   support\n",
      "\n",
      "           0       0.88      0.66      0.76      1924\n",
      "           1       0.65      0.87      0.74      1376\n",
      "\n",
      "    accuracy                           0.75      3300\n",
      "   macro avg       0.76      0.77      0.75      3300\n",
      "weighted avg       0.78      0.75      0.75      3300\n",
      "\n",
      "Precision value is  : 0.76\n",
      "Recall value is  : 0.77\n",
      "F1 Score value is  : 0.75\n",
      "=================================================\n",
      "for Model QuadraticDiscriminantAnalysis\n",
      "Train Score is : 0.7905970149253732\n",
      "Test Score is : 0.7875757575757576\n",
      "Classification Report is : \n",
      "               precision    recall  f1-score   support\n",
      "\n",
      "           0       0.81      0.82      0.82      1924\n",
      "           1       0.75      0.74      0.74      1376\n",
      "\n",
      "    accuracy                           0.79      3300\n",
      "   macro avg       0.78      0.78      0.78      3300\n",
      "weighted avg       0.79      0.79      0.79      3300\n",
      "\n",
      "Precision value is  : 0.78\n",
      "Recall value is  : 0.78\n",
      "F1 Score value is  : 0.78\n",
      "=================================================\n",
      "for Model SVC\n",
      "Train Score is : 0.581044776119403\n",
      "Test Score is : 0.5793939393939394\n",
      "Classification Report is : \n",
      "               precision    recall  f1-score   support\n",
      "\n",
      "           0       0.58      0.99      0.73      1924\n",
      "           1       0.36      0.01      0.02      1376\n",
      "\n",
      "    accuracy                           0.58      3300\n",
      "   macro avg       0.47      0.50      0.38      3300\n",
      "weighted avg       0.49      0.58      0.44      3300\n",
      "\n",
      "Precision value is  : 0.47\n",
      "Recall value is  : 0.50\n",
      "F1 Score value is  : 0.38\n",
      "=================================================\n",
      "for Model DecisionTreeClassifier\n",
      "Train Score is : 0.7805970149253731\n",
      "Test Score is : 0.7642424242424243\n",
      "Classification Report is : \n",
      "               precision    recall  f1-score   support\n",
      "\n",
      "           0       0.85      0.73      0.78      1924\n",
      "           1       0.68      0.82      0.74      1376\n",
      "\n",
      "    accuracy                           0.76      3300\n",
      "   macro avg       0.76      0.77      0.76      3300\n",
      "weighted avg       0.78      0.76      0.77      3300\n",
      "\n",
      "Precision value is  : 0.76\n",
      "Recall value is  : 0.77\n",
      "F1 Score value is  : 0.76\n",
      "=================================================\n"
     ]
    },
    {
     "name": "stderr",
     "output_type": "stream",
     "text": [
      "C:\\Users\\Prudhvi\\anaconda3\\lib\\site-packages\\sklearn\\svm\\_base.py:246: ConvergenceWarning: Solver terminated early (max_iter=100).  Consider pre-processing your data with StandardScaler or MinMaxScaler.\n",
      "  warnings.warn('Solver terminated early (max_iter=%i).'\n"
     ]
    }
   ],
   "source": [
    "from sklearn.ensemble import RandomForestClassifier,GradientBoostingClassifier\n",
    "from sklearn.linear_model import LogisticRegression,SGDClassifier\n",
    "from sklearn.naive_bayes import GaussianNB,MultinomialNB,BernoulliNB\n",
    "from sklearn.discriminant_analysis import LinearDiscriminantAnalysis,QuadraticDiscriminantAnalysis\n",
    "from sklearn.svm import SVC\n",
    "from sklearn.tree import DecisionTreeClassifier\n",
    "from sklearn.neighbors import KNeighborsClassifier\n",
    "from sklearn.metrics import classification_report\n",
    "\n",
    "###########################################\n",
    "\n",
    "GaussianNBModel = GaussianNB()\n",
    "MultinomialNBModel = MultinomialNB(alpha=1.0)\n",
    "BernoulliNBModel = BernoulliNB(alpha=1.0,binarize=1)\n",
    "LogisticRegressionModel = LogisticRegression(penalty='l2',solver='sag',C=1.0,random_state=33)\n",
    "SGDClassifierModel = SGDClassifier(penalty='l2',learning_rate='optimal',random_state=33)\n",
    "RandomForestClassifierModel = RandomForestClassifier(criterion = 'gini',n_estimators=300,max_depth=7,random_state=33) \n",
    "GBCModel = GradientBoostingClassifier(n_estimators=100,max_depth=3,random_state=33) \n",
    "QDAModel = QuadraticDiscriminantAnalysis(tol=0.0001)\n",
    "SVCModel = SVC(kernel= 'rbf',max_iter=100,C=1.0,gamma='auto')\n",
    "DecisionTreeClassifierModel = DecisionTreeClassifier(criterion='gini',max_depth=3,random_state=33)\n",
    "KNNClassifierModel = KNeighborsClassifier(n_neighbors= 5,weights ='uniform',algorithm='auto') \n",
    "\n",
    "Models = [GaussianNBModel,KNNClassifierModel,MultinomialNBModel,\n",
    "          BernoulliNBModel,LogisticRegressionModel,RandomForestClassifierModel,\n",
    "          GBCModel,SGDClassifierModel,QDAModel,SVCModel,DecisionTreeClassifierModel]\n",
    "###########################################\n",
    "\n",
    "ModelsScore = {}\n",
    "for Model in Models : \n",
    "    print(f'for Model {str(Model).split(\"(\")[0]}')\n",
    "    Model.fit(X_train, y_train)\n",
    "    print(f'Train Score is : {Model.score(X_train, y_train)}')\n",
    "    print(f'Test Score is : {Model.score(X_test, y_test)}')\n",
    "    y_pred = Model.predict(X_test)\n",
    "    ClassificationReport = classification_report(y_test,y_pred)\n",
    "    print('Classification Report is : \\n', ClassificationReport )\n",
    "    print(f'Precision value is  : {ClassificationReport.split()[19]}')\n",
    "    print(f'Recall value is  : {ClassificationReport.split()[20]}')\n",
    "    print(f'F1 Score value is  : {ClassificationReport.split()[21]}')\n",
    "    ModelsScore[str(Model).split(\"(\")[0]] = [ClassificationReport.split()[19],\n",
    "                                             ClassificationReport.split()[20],ClassificationReport.split()[21]]\n",
    "    print('=================================================')    "
   ]
  },
  {
   "cell_type": "markdown",
   "metadata": {},
   "source": [
    "## model fitting (Gradient Boosting Classifier)"
   ]
  },
  {
   "cell_type": "code",
   "execution_count": 32,
   "metadata": {},
   "outputs": [
    {
     "name": "stdout",
     "output_type": "stream",
     "text": [
      "GBCModel Train Score is :  0.8150746268656717\n",
      "GBCModel Test Score is :  0.806060606060606\n"
     ]
    }
   ],
   "source": [
    "#Applying GradientBoostingClassifier Model \n",
    "GBCModel = GradientBoostingClassifier(n_estimators=80,max_depth=3,random_state=44) \n",
    "GBCModel.fit(X_train, y_train)\n",
    "\n",
    "#Calculating Details\n",
    "print('GBCModel Train Score is : ' , GBCModel.score(X_train, y_train))\n",
    "print('GBCModel Test Score is : ' , GBCModel.score(X_test, y_test))"
   ]
  },
  {
   "cell_type": "markdown",
   "metadata": {},
   "source": [
    "Gradient boosting classifier is most convenient"
   ]
  },
  {
   "cell_type": "code",
   "execution_count": 33,
   "metadata": {},
   "outputs": [],
   "source": [
    "#Calculating Prediction\n",
    "y_pred = GBCModel.predict(X_test)"
   ]
  },
  {
   "cell_type": "code",
   "execution_count": 34,
   "metadata": {},
   "outputs": [
    {
     "data": {
      "text/plain": [
       "array([0, 0, 0, ..., 0, 0, 1])"
      ]
     },
     "execution_count": 34,
     "metadata": {},
     "output_type": "execute_result"
    }
   ],
   "source": [
    "y_pred"
   ]
  },
  {
   "cell_type": "code",
   "execution_count": 35,
   "metadata": {},
   "outputs": [
    {
     "data": {
      "text/plain": [
       "array([0, 0, 0, ..., 0, 1, 1])"
      ]
     },
     "execution_count": 35,
     "metadata": {},
     "output_type": "execute_result"
    }
   ],
   "source": [
    "y_test.values"
   ]
  },
  {
   "cell_type": "markdown",
   "metadata": {},
   "source": [
    "## Model Evaluation"
   ]
  },
  {
   "cell_type": "code",
   "execution_count": 36,
   "metadata": {},
   "outputs": [
    {
     "name": "stdout",
     "output_type": "stream",
     "text": [
      "Classification Report is : \n",
      "               precision    recall  f1-score   support\n",
      "\n",
      "           0       0.83      0.85      0.84      1924\n",
      "           1       0.78      0.75      0.76      1376\n",
      "\n",
      "    accuracy                           0.81      3300\n",
      "   macro avg       0.80      0.80      0.80      3300\n",
      "weighted avg       0.81      0.81      0.81      3300\n",
      "\n"
     ]
    }
   ],
   "source": [
    "#Import Libraries\n",
    "from sklearn.metrics import classification_report\n",
    "#----------------------------------------------------\n",
    "\n",
    "#----------------------------------------------------\n",
    "#Calculating classification Report :  \n",
    "#classification_report(y_true, y_pred, labels=None, target_names=None,sample_weight=None, digits=2, output_dict=False)\n",
    "\n",
    "ClassificationReport = classification_report(y_test,y_pred)\n",
    "print('Classification Report is : \\n', ClassificationReport )"
   ]
  },
  {
   "cell_type": "markdown",
   "metadata": {},
   "source": [
    "## Predicting model"
   ]
  },
  {
   "cell_type": "code",
   "execution_count": 37,
   "metadata": {},
   "outputs": [],
   "source": [
    "y_pred = GBCModel.predict(X_test)"
   ]
  },
  {
   "cell_type": "code",
   "execution_count": 38,
   "metadata": {},
   "outputs": [],
   "source": [
    "from sklearn.metrics import confusion_matrix\n",
    "cm = confusion_matrix(y_test, y_pred)"
   ]
  },
  {
   "cell_type": "code",
   "execution_count": 39,
   "metadata": {},
   "outputs": [
    {
     "data": {
      "text/plain": [
       "<AxesSubplot:>"
      ]
     },
     "execution_count": 39,
     "metadata": {},
     "output_type": "execute_result"
    },
    {
     "data": {
      "image/png": "[encoded data removed]",
      "text/plain": [
       "<Figure size 432x288 with 2 Axes>"
      ]
     },
     "metadata": {
      "needs_background": "light"
     },
     "output_type": "display_data"
    }
   ],
   "source": [
    "sns.heatmap(cm, annot = True)"
   ]
  },
  {
   "cell_type": "code",
   "execution_count": 40,
   "metadata": {},
   "outputs": [
    {
     "name": "stdout",
     "output_type": "stream",
     "text": [
      "Training Accuracy : 0.8150746268656717\n",
      "Testing Accuracy : 0.806060606060606\n"
     ]
    }
   ],
   "source": [
    "print(\"Training Accuracy :\", GBCModel.score(X_train, y_train))\n",
    "print(\"Testing Accuracy :\", GBCModel.score(X_test, y_test))"
   ]
  },
  {
   "cell_type": "code",
   "execution_count": 41,
   "metadata": {},
   "outputs": [],
   "source": [
    "import joblib"
   ]
  },
  {
   "cell_type": "code",
   "execution_count": 42,
   "metadata": {},
   "outputs": [
    {
     "data": {
      "text/plain": [
       "['placement_prediction']"
      ]
     },
     "execution_count": 42,
     "metadata": {},
     "output_type": "execute_result"
    }
   ],
   "source": [
    "joblib.dump(GBCModel,'placement_prediction')"
   ]
  },
  {
   "cell_type": "code",
   "execution_count": 43,
   "metadata": {},
   "outputs": [],
   "source": [
    "model = joblib.load('placement_prediction')"
   ]
  },
  {
   "cell_type": "code",
   "execution_count": 44,
   "metadata": {},
   "outputs": [
    {
     "data": {
      "text/plain": [
       "Index(['CGPA', 'Internships', 'Projects', 'Workshops/Certifications',\n",
       "       'AptitudeTestScore', 'SoftSkillsRating', 'SSC_Marks', 'HSC_Marks',\n",
       "       'ExtracurricularActivities', 'PlacementTraining_', 'PlacementStatus'],\n",
       "      dtype='object')"
      ]
     },
     "execution_count": 44,
     "metadata": {},
     "output_type": "execute_result"
    }
   ],
   "source": [
    "df.columns"
   ]
  },
  {
   "cell_type": "code",
   "execution_count": 45,
   "metadata": {},
   "outputs": [
    {
     "data": {
      "text/plain": [
       "array([0])"
      ]
     },
     "execution_count": 45,
     "metadata": {},
     "output_type": "execute_result"
    }
   ],
   "source": [
    "from sklearn.preprocessing import StandardScaler\n",
    "sc=StandardScaler()\n",
    "X_train=sc.fit_transform(X_train)\n",
    "X_test=sc.transform(X_test)\n",
    "X_train\n",
    "model.predict(sc.transform([[7.5,1,1,1,65,4.4,0,0,61,79]]))"
   ]
  },
  {
   "cell_type": "code",
   "execution_count": 46,
   "metadata": {},
   "outputs": [
    {
     "name": "stdout",
     "output_type": "stream",
     "text": [
      "this person is not placed for the job\n"
     ]
    }
   ],
   "source": [
    "input_data = (7.5,1,1,1,65,4.4,0,0,51,79)\n",
    "\n",
    "np_df = np.asarray(input_data)\n",
    "reshaped_df = np_df.reshape(1,-1)\n",
    "pred = GBCModel.predict(reshaped_df)\n",
    "if pred[0] == 1:\n",
    "    print(\"this person is placed for the job\")\n",
    "else:\n",
    "    print(\"this person is not placed for the job\")\n",
    "    \n",
    "    \n",
    "import pickle\n",
    "pickle.dump(GBCModel,open('placement.pkl','wb'))"
   ]
  },
  {
   "cell_type": "markdown",
   "metadata": {},
   "source": [
    "### Graphical User Interface"
   ]
  },
  {
   "cell_type": "code",
   "execution_count": null,
   "metadata": {},
   "outputs": [
    {
     "name": "stderr",
     "output_type": "stream",
     "text": [
      "Exception in Tkinter callback\n",
      "Traceback (most recent call last):\n",
      "  File \"C:\\Users\\Prudhvi\\anaconda3\\lib\\tkinter\\__init__.py\", line 1883, in __call__\n",
      "    return self.func(*args)\n",
      "  File \"<ipython-input-49-2b6f0a035c7d>\", line 9, in show_entry\n",
      "    p1 = float(e1.get())\n",
      "ValueError: could not convert string to float: ''\n",
      "Exception in Tkinter callback\n",
      "Traceback (most recent call last):\n",
      "  File \"C:\\Users\\Prudhvi\\anaconda3\\lib\\tkinter\\__init__.py\", line 1883, in __call__\n",
      "    return self.func(*args)\n",
      "  File \"<ipython-input-49-2b6f0a035c7d>\", line 10, in show_entry\n",
      "    p2 = float(e2.get())\n",
      "ValueError: could not convert string to float: ''\n",
      "Exception in Tkinter callback\n",
      "Traceback (most recent call last):\n",
      "  File \"C:\\Users\\Prudhvi\\anaconda3\\lib\\tkinter\\__init__.py\", line 1883, in __call__\n",
      "    return self.func(*args)\n",
      "  File \"<ipython-input-49-2b6f0a035c7d>\", line 18, in show_entry\n",
      "    p10 = float(e10.get())\n",
      "ValueError: could not convert string to float: ''\n"
     ]
    }
   ],
   "source": [
    "from tkinter import *\n",
    "import joblib\n",
    "import numpy as np\n",
    "from sklearn import *\n",
    "import tkinter.font as font\n",
    "import pandas as pd\n",
    "\n",
    "def show_entry():\n",
    "    p1 = float(e1.get())\n",
    "    p2 = float(e2.get())\n",
    "    p3 = float(e3.get())\n",
    "    p4 = float(e4.get())\n",
    "    p5 = float(e5.get())\n",
    "    p6 = float(e6.get())\n",
    "    p7 = float(e7.get())\n",
    "    p8 = float(e8.get())\n",
    "    p9 = float(e9.get())\n",
    "    p10 = float(e10.get())\n",
    "    model = joblib.load('placement_prediction')\n",
    "    result = model.predict(sc.transform([[p1,p2,p3,p4,p5,p6,p7,p8,p9,p10]]))\n",
    " \n",
    "    if result == 1:\n",
    "        Label(master, text=\"High Chance of getting placed\").grid(row=3)\n",
    "    else:\n",
    "        Label(master, text=\"less chance of getting placed\").grid(row=31)\n",
    "master =Tk()\n",
    "master.title(\"Engineering placements data analysis\")\n",
    "\n",
    "label = Label(master, text = \"Engineering placements data analysis\", bg = \"green\", fg = \"white\",font=(\"Arial\", 20)).grid(row=0,columnspan=2)\n",
    "\n",
    "Label(master,text = \"CGPA\").grid(row=1)\n",
    "Label(master,text = \"Enter number of interships you have completed\").grid(row=2)\n",
    "Label(master,text = \"Enter number of projects you have done\").grid(row=3)\n",
    "Label(master,text = \"Enter number of workshops/certifications you have completed\").grid(row=4)\n",
    "Label(master,text = \"Enter your AptitudeTestScore\").grid(row=5)\n",
    "Label(master,text = \"Enter your SoftSkillsRating\").grid(row=6)\n",
    "Label(master,text = \"Enter your SSC_Marks\").grid(row=7)\n",
    "Label(master,text = \"Enter your HSC_Marks\").grid(row=8)\n",
    "Label(master,text = \"Enter your ExtracurricularActivities\").grid(row=9)\n",
    "Label(master,text = \"Enter number of PlacementTrainings you have attended\").grid(row=10)\n",
    "\n",
    "\n",
    "e1 = Entry(master)\n",
    "e2 = Entry(master)\n",
    "e3 = Entry(master)\n",
    "e4 = Entry(master)\n",
    "e5 = Entry(master)\n",
    "e6 = Entry(master)\n",
    "e7 = Entry(master)\n",
    "e8 = Entry(master)\n",
    "e9 = Entry(master)\n",
    "e10 = Entry(master)\n",
    "e1.grid(row=1,column=1)\n",
    "e2.grid(row=2,column=1)\n",
    "e3.grid(row=3,column=1)\n",
    "e4.grid(row=4,column=1)\n",
    "e5.grid(row=5,column=1)\n",
    "e6.grid(row=6,column=1)\n",
    "e7.grid(row=7,column=1)\n",
    "e8.grid(row=8,column=1)\n",
    "e9.grid(row=9,column=1)\n",
    "e10.grid(row=10,column=1)\n",
    "\n",
    "Button(master,text=\"Predict\",command=show_entry).grid()\n",
    "\n",
    "mainloop()"
   ]
  },
  {
   "cell_type": "code",
   "execution_count": null,
   "metadata": {},
   "outputs": [],
   "source": []
  },
  {
   "cell_type": "code",
   "execution_count": null,
   "metadata": {},
   "outputs": [],
   "source": []
  }
 ],
 "metadata": {
  "kernelspec": {
   "display_name": "Python 3 (ipykernel)",
   "language": "python",
   "name": "python3"
  },
  "language_info": {
   "codemirror_mode": {
    "name": "ipython",
    "version": 3
   },
   "file_extension": ".py",
   "mimetype": "text/x-python",
   "name": "python",
   "nbconvert_exporter": "python",
   "pygments_lexer": "ipython3",
   "version": "3.11.7"
  }
 },
 "nbformat": 4,
 "nbformat_minor": 4
}
